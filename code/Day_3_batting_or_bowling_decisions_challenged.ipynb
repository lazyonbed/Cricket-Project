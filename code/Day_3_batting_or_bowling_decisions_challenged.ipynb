{
 "cells": [
  {
   "cell_type": "code",
   "execution_count": 29,
   "metadata": {},
   "outputs": [],
   "source": [
    "import pandas as pd\n",
    "import matplotlib.pyplot as plt\n",
    "\n",
    "plt.style.use('dark_background') # I love dark mode."
   ]
  },
  {
   "cell_type": "code",
   "execution_count": 30,
   "metadata": {},
   "outputs": [
    {
     "name": "stdout",
     "output_type": "stream",
     "text": [
      "Total number of challenges in the dataset:  69\n"
     ]
    }
   ],
   "source": [
    "# Load the data\n",
    "drs_data = pd.read_excel(\"../data/drs_data.xlsx\", header=0)\n",
    "# Print the total number of challenges in the dataset\n",
    "print(\"Total number of challenges in the dataset: \", drs_data.shape[0])"
   ]
  },
  {
   "cell_type": "code",
   "execution_count": 32,
   "metadata": {},
   "outputs": [
    {
     "name": "stdout",
     "output_type": "stream",
     "text": [
      "RCB\n",
      "RCB\n",
      "RCB\n",
      "RCB\n",
      "RCB\n",
      "PBKS\n",
      "PBKS\n",
      "PBKS\n",
      "DC\n",
      "SRH\n",
      "SRH\n",
      "KKR\n",
      "RR\n",
      "RR\n",
      "LSG\n",
      "RR\n",
      "GT\n",
      "MI\n",
      "PBKS\n",
      "RCB\n",
      "RCB\n",
      "PBKS\n",
      "RCB\n",
      "CSK\n",
      "GT\n",
      "CSK\n",
      "CSK\n",
      "GT\n",
      "MI\n",
      "SRH\n",
      "MI\n",
      "SRH\n",
      "DC\n",
      "DC\n",
      "DC\n",
      "RR\n",
      "RCB\n",
      "PBKS\n",
      "GT\n",
      "SRH\n",
      "GT\n",
      "CSK\n",
      "MI\n",
      "RR\n",
      "RCB\n",
      "LSG\n",
      "LSG\n",
      "RCB\n",
      "RCB\n",
      "KKR\n",
      "KKR\n",
      "GT\n",
      "GT\n",
      "GT\n",
      "GT\n",
      "GT\n",
      "CSK\n",
      "SRH\n",
      "CSK\n",
      "RCB\n",
      "DC\n",
      "MI\n",
      "DC\n",
      "MI\n",
      "GT\n",
      "LSG\n",
      "KKR\n",
      "KKR\n",
      "KKR\n",
      "0     None\n",
      "1     None\n",
      "2     None\n",
      "3     None\n",
      "4     None\n",
      "      ... \n",
      "64    None\n",
      "65    None\n",
      "66    None\n",
      "67    None\n",
      "68    None\n",
      "Name: Who took the review?, Length: 69, dtype: object\n"
     ]
    }
   ],
   "source": [
    "# Check if the review was taken by batting team or fielding team\n",
    "# Create a new column saving those values\n",
    "# drs_data[\"Who took the review?\"] = drs_data[\"Review By\"].apply(lambda x: \"Batting\" if x == drs_data[\"Batting Team\"] else \"Fielding\") \n",
    "drs_data[\"Who took the review?\"] = drs_data[\"Review By\"].apply(lambda x: print(x))\n",
    "print(drs_data[\"Who took the review?\"])\n"
   ]
  }
 ],
 "metadata": {
  "kernelspec": {
   "display_name": "pytorch_env",
   "language": "python",
   "name": "python3"
  },
  "language_info": {
   "codemirror_mode": {
    "name": "ipython",
    "version": 3
   },
   "file_extension": ".py",
   "mimetype": "text/x-python",
   "name": "python",
   "nbconvert_exporter": "python",
   "pygments_lexer": "ipython3",
   "version": "3.11.5"
  }
 },
 "nbformat": 4,
 "nbformat_minor": 2
}
