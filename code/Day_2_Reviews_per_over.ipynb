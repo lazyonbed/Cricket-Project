{
 "cells": [
  {
   "cell_type": "code",
   "execution_count": null,
   "metadata": {},
   "outputs": [],
   "source": [
    "import pandas as pd\n",
    "import seaborn as sns\n",
    "import matplotlib.pyplot as plt\n",
    "\n",
    "plt.style.use('dark_background') # I love dark mode."
   ]
  },
  {
   "cell_type": "code",
   "execution_count": null,
   "metadata": {},
   "outputs": [],
   "source": [
    "# Load the data\n",
    "drs_data = pd.read_excel(\"../data/drs_data.xlsx\", header=0)\n",
    "# Print the total number of challenges in the dataset\n",
    "print(\"Total number of challenges in the dataset: \", drs_data.shape[0])"
   ]
  },
  {
   "cell_type": "code",
   "execution_count": null,
   "metadata": {},
   "outputs": [],
   "source": [
    "fig = plt.figure()\n",
    "ax = fig.add_subplot(111)\n",
    "# Create countplot\n",
    "ax = sns.countplot(data=drs_data, x=\"Over\", color=\"green\")\n",
    "ax.set_title(\"In IPL 2024, what is the ditribution of reviews taken according to over?\")\n",
    "ax.axis(\"equal\")\n",
    "plt.tight_layout()\n",
    "plt.show()\n",
    "plt.savefig(\"../plots/overs_distribution_reviews.png\", bbox_inches='tight', dpi=720)"
   ]
  }
 ],
 "metadata": {
  "language_info": {
   "name": "python"
  }
 },
 "nbformat": 4,
 "nbformat_minor": 2
}
